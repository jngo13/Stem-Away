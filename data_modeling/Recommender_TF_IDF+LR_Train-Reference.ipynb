{
  "nbformat": 4,
  "nbformat_minor": 0,
  "metadata": {
    "kernelspec": {
      "display_name": "Python 3",
      "language": "python",
      "name": "python3"
    },
    "toc": {
      "base_numbering": 1,
      "nav_menu": {},
      "number_sections": true,
      "sideBar": true,
      "skip_h1_title": false,
      "title_cell": "Table of Contents",
      "title_sidebar": "Contents",
      "toc_cell": false,
      "toc_position": {},
      "toc_section_display": true,
      "toc_window_display": false
    },
    "colab": {
      "name": "Recommender_TF-IDF+LR_Train.ipynb",
      "provenance": [],
      "collapsed_sections": [
        "HsA81V0jyVtb"
      ],
      "toc_visible": true
    }
  },
  "cells": [
    {
      "cell_type": "markdown",
      "metadata": {
        "id": "8aKlr_ceZ80F",
        "colab_type": "text"
      },
      "source": [
        "# Load the data"
      ]
    },
    {
      "cell_type": "code",
      "metadata": {
        "id": "tXGfbnGuakNs",
        "colab_type": "code",
        "colab": {
          "base_uri": "https://localhost:8080/",
          "height": 35
        },
        "outputId": "931c5846-6041-4e24-ecb4-712dc542add8"
      },
      "source": [
        "from google.colab import drive\n",
        "drive.mount('/content/drive')"
      ],
      "execution_count": null,
      "outputs": [
        {
          "output_type": "stream",
          "text": [
            "Drive already mounted at /content/drive; to attempt to forcibly remount, call drive.mount(\"/content/drive\", force_remount=True).\n"
          ],
          "name": "stdout"
        }
      ]
    },
    {
      "cell_type": "code",
      "metadata": {
        "id": "0HSRsdIcumVy",
        "colab_type": "code",
        "colab": {
          "base_uri": "https://localhost:8080/",
          "height": 35
        },
        "outputId": "0c491eb2-1180-4029-9d95-8940039bbc8a"
      },
      "source": [
        "pwd"
      ],
      "execution_count": null,
      "outputs": [
        {
          "output_type": "execute_result",
          "data": {
            "application/vnd.google.colaboratory.intrinsic+json": {
              "type": "string"
            },
            "text/plain": [
              "'/content'"
            ]
          },
          "metadata": {
            "tags": []
          },
          "execution_count": 5
        }
      ]
    },
    {
      "cell_type": "code",
      "metadata": {
        "id": "TK5RDR89aeai",
        "colab_type": "code",
        "colab": {}
      },
      "source": [
        "import pandas as pd\n",
        "\n",
        "result = pd.read_csv('/content/drive/My Drive/WorkOnMergedData/final_merged_data.csv')"
      ],
      "execution_count": null,
      "outputs": []
    },
    {
      "cell_type": "code",
      "metadata": {
        "id": "IlGVR0xRbLCZ",
        "colab_type": "code",
        "colab": {
          "base_uri": "https://localhost:8080/",
          "height": 302
        },
        "outputId": "75840490-460c-4164-f89b-44d63598c402"
      },
      "source": [
        "result.head()"
      ],
      "execution_count": null,
      "outputs": [
        {
          "output_type": "execute_result",
          "data": {
            "text/html": [
              "<div>\n",
              "<style scoped>\n",
              "    .dataframe tbody tr th:only-of-type {\n",
              "        vertical-align: middle;\n",
              "    }\n",
              "\n",
              "    .dataframe tbody tr th {\n",
              "        vertical-align: top;\n",
              "    }\n",
              "\n",
              "    .dataframe thead th {\n",
              "        text-align: right;\n",
              "    }\n",
              "</style>\n",
              "<table border=\"1\" class=\"dataframe\">\n",
              "  <thead>\n",
              "    <tr style=\"text-align: right;\">\n",
              "      <th></th>\n",
              "      <th>Unnamed: 0</th>\n",
              "      <th>Title</th>\n",
              "      <th>Post Author</th>\n",
              "      <th>Leading Comment</th>\n",
              "      <th>Reply Comments</th>\n",
              "      <th>Category</th>\n",
              "      <th>Forum</th>\n",
              "    </tr>\n",
              "  </thead>\n",
              "  <tbody>\n",
              "    <tr>\n",
              "      <th>0</th>\n",
              "      <td>0</td>\n",
              "      <td>One item multiple buyers</td>\n",
              "      <td>Stocoloco_LLC</td>\n",
              "      <td>Yesterday I lowered the price of an item to ma...</td>\n",
              "      <td>['Isn’t that what you were trying to do??? Mat...</td>\n",
              "      <td>Fulfillment By Amazon</td>\n",
              "      <td>Amazon</td>\n",
              "    </tr>\n",
              "    <tr>\n",
              "      <th>1</th>\n",
              "      <td>1</td>\n",
              "      <td>Unavailable payment</td>\n",
              "      <td>storesupplies</td>\n",
              "      <td>I got my new credit card and before I could up...</td>\n",
              "      <td>['You can’t. You just have to wait.', 'You can...</td>\n",
              "      <td>Fulfillment By Amazon</td>\n",
              "      <td>Amazon</td>\n",
              "    </tr>\n",
              "    <tr>\n",
              "      <th>2</th>\n",
              "      <td>2</td>\n",
              "      <td>Some FBA items Not Showing Inventory</td>\n",
              "      <td>ShipFlip</td>\n",
              "      <td>I sent an FBA shipment on November 26. They sh...</td>\n",
              "      <td>['This topic was automatically closed 180 days...</td>\n",
              "      <td>Fulfillment By Amazon</td>\n",
              "      <td>Amazon</td>\n",
              "    </tr>\n",
              "    <tr>\n",
              "      <th>3</th>\n",
              "      <td>3</td>\n",
              "      <td>Stock products</td>\n",
              "      <td>Andean_Star</td>\n",
              "      <td>Hi, I need to know the products stock in Selle...</td>\n",
              "      <td>['You need to have a professional account and ...</td>\n",
              "      <td>Fulfillment By Amazon</td>\n",
              "      <td>Amazon</td>\n",
              "    </tr>\n",
              "    <tr>\n",
              "      <th>4</th>\n",
              "      <td>4</td>\n",
              "      <td>Frustrating Seller Support for faulty LTSF cat...</td>\n",
              "      <td>Illuminations_Brand</td>\n",
              "      <td>Just here to vent at the Asia based Seller Sup...</td>\n",
              "      <td>['Illuminations_Brand\\nIf you’re here in the U...</td>\n",
              "      <td>Fulfillment By Amazon</td>\n",
              "      <td>Amazon</td>\n",
              "    </tr>\n",
              "  </tbody>\n",
              "</table>\n",
              "</div>"
            ],
            "text/plain": [
              "   Unnamed: 0  ...   Forum\n",
              "0           0  ...  Amazon\n",
              "1           1  ...  Amazon\n",
              "2           2  ...  Amazon\n",
              "3           3  ...  Amazon\n",
              "4           4  ...  Amazon\n",
              "\n",
              "[5 rows x 7 columns]"
            ]
          },
          "metadata": {
            "tags": []
          },
          "execution_count": 7
        }
      ]
    },
    {
      "cell_type": "code",
      "metadata": {
        "id": "lx_qfkSsb3HJ",
        "colab_type": "code",
        "colab": {
          "base_uri": "https://localhost:8080/",
          "height": 155
        },
        "outputId": "cbc925aa-f7d9-4cc9-df90-006461f49237"
      },
      "source": [
        "result.isna().sum()"
      ],
      "execution_count": null,
      "outputs": [
        {
          "output_type": "execute_result",
          "data": {
            "text/plain": [
              "Unnamed: 0         0\n",
              "Title              0\n",
              "Post Author        0\n",
              "Leading Comment    1\n",
              "Reply Comments     0\n",
              "Category           0\n",
              "Forum              0\n",
              "dtype: int64"
            ]
          },
          "metadata": {
            "tags": []
          },
          "execution_count": 8
        }
      ]
    },
    {
      "cell_type": "code",
      "metadata": {
        "id": "CeUeC8dSb9CA",
        "colab_type": "code",
        "colab": {}
      },
      "source": [
        "result.dropna(axis=0, inplace=True)"
      ],
      "execution_count": null,
      "outputs": []
    },
    {
      "cell_type": "code",
      "metadata": {
        "id": "n9lfIArfu68_",
        "colab_type": "code",
        "colab": {
          "base_uri": "https://localhost:8080/",
          "height": 69
        },
        "outputId": "fdd4024d-f91e-4707-f870-d4d0323b6a19"
      },
      "source": [
        "result.columns"
      ],
      "execution_count": null,
      "outputs": [
        {
          "output_type": "execute_result",
          "data": {
            "text/plain": [
              "Index(['Unnamed: 0', 'Title', 'Post Author', 'Leading Comment',\n",
              "       'Reply Comments', 'Category', 'Forum'],\n",
              "      dtype='object')"
            ]
          },
          "metadata": {
            "tags": []
          },
          "execution_count": 10
        }
      ]
    },
    {
      "cell_type": "code",
      "metadata": {
        "id": "VlCjz2eau0ZW",
        "colab_type": "code",
        "colab": {}
      },
      "source": [
        "result.drop(columns=['Unnamed: 0', 'Post Author',\n",
        "       'Reply Comments', 'Forum'], inplace=True)"
      ],
      "execution_count": null,
      "outputs": []
    },
    {
      "cell_type": "code",
      "metadata": {
        "id": "LGkxLXmacG9q",
        "colab_type": "code",
        "colab": {
          "base_uri": "https://localhost:8080/",
          "height": 86
        },
        "outputId": "9b7b1a22-6415-4f7a-9998-3b960334b8d1"
      },
      "source": [
        "result.isna().sum()"
      ],
      "execution_count": null,
      "outputs": [
        {
          "output_type": "execute_result",
          "data": {
            "text/plain": [
              "Title              0\n",
              "Leading Comment    0\n",
              "Category           0\n",
              "dtype: int64"
            ]
          },
          "metadata": {
            "tags": []
          },
          "execution_count": 12
        }
      ]
    },
    {
      "cell_type": "code",
      "metadata": {
        "id": "PvGqfLJwcNa2",
        "colab_type": "code",
        "colab": {
          "base_uri": "https://localhost:8080/",
          "height": 198
        },
        "outputId": "f4bdc9fe-695d-47de-a5a4-4f8df1dc5265"
      },
      "source": [
        "result.head()"
      ],
      "execution_count": null,
      "outputs": [
        {
          "output_type": "execute_result",
          "data": {
            "text/html": [
              "<div>\n",
              "<style scoped>\n",
              "    .dataframe tbody tr th:only-of-type {\n",
              "        vertical-align: middle;\n",
              "    }\n",
              "\n",
              "    .dataframe tbody tr th {\n",
              "        vertical-align: top;\n",
              "    }\n",
              "\n",
              "    .dataframe thead th {\n",
              "        text-align: right;\n",
              "    }\n",
              "</style>\n",
              "<table border=\"1\" class=\"dataframe\">\n",
              "  <thead>\n",
              "    <tr style=\"text-align: right;\">\n",
              "      <th></th>\n",
              "      <th>Title</th>\n",
              "      <th>Leading Comment</th>\n",
              "      <th>Category</th>\n",
              "    </tr>\n",
              "  </thead>\n",
              "  <tbody>\n",
              "    <tr>\n",
              "      <th>0</th>\n",
              "      <td>One item multiple buyers</td>\n",
              "      <td>Yesterday I lowered the price of an item to ma...</td>\n",
              "      <td>Fulfillment By Amazon</td>\n",
              "    </tr>\n",
              "    <tr>\n",
              "      <th>1</th>\n",
              "      <td>Unavailable payment</td>\n",
              "      <td>I got my new credit card and before I could up...</td>\n",
              "      <td>Fulfillment By Amazon</td>\n",
              "    </tr>\n",
              "    <tr>\n",
              "      <th>2</th>\n",
              "      <td>Some FBA items Not Showing Inventory</td>\n",
              "      <td>I sent an FBA shipment on November 26. They sh...</td>\n",
              "      <td>Fulfillment By Amazon</td>\n",
              "    </tr>\n",
              "    <tr>\n",
              "      <th>3</th>\n",
              "      <td>Stock products</td>\n",
              "      <td>Hi, I need to know the products stock in Selle...</td>\n",
              "      <td>Fulfillment By Amazon</td>\n",
              "    </tr>\n",
              "    <tr>\n",
              "      <th>4</th>\n",
              "      <td>Frustrating Seller Support for faulty LTSF cat...</td>\n",
              "      <td>Just here to vent at the Asia based Seller Sup...</td>\n",
              "      <td>Fulfillment By Amazon</td>\n",
              "    </tr>\n",
              "  </tbody>\n",
              "</table>\n",
              "</div>"
            ],
            "text/plain": [
              "                                               Title  ...               Category\n",
              "0                           One item multiple buyers  ...  Fulfillment By Amazon\n",
              "1                                Unavailable payment  ...  Fulfillment By Amazon\n",
              "2               Some FBA items Not Showing Inventory  ...  Fulfillment By Amazon\n",
              "3                                     Stock products  ...  Fulfillment By Amazon\n",
              "4  Frustrating Seller Support for faulty LTSF cat...  ...  Fulfillment By Amazon\n",
              "\n",
              "[5 rows x 3 columns]"
            ]
          },
          "metadata": {
            "tags": []
          },
          "execution_count": 13
        }
      ]
    },
    {
      "cell_type": "code",
      "metadata": {
        "id": "5rhilrkgvQoX",
        "colab_type": "code",
        "colab": {}
      },
      "source": [
        "result.rename(columns={'Leading Comment': 'texts', 'Category': 'labels'}, inplace=True)"
      ],
      "execution_count": null,
      "outputs": []
    },
    {
      "cell_type": "code",
      "metadata": {
        "id": "hN9eUGjhccgk",
        "colab_type": "code",
        "colab": {
          "base_uri": "https://localhost:8080/",
          "height": 190
        },
        "outputId": "7b07c928-ee29-4035-f5c4-79e95042f95e"
      },
      "source": [
        "result.labels.unique()"
      ],
      "execution_count": null,
      "outputs": [
        {
          "output_type": "execute_result",
          "data": {
            "text/plain": [
              "array(['Fulfillment By Amazon', 'Amazon Sponsored Products',\n",
              "       'Account Health', 'Selling on Amazon', 'Global Selling', 'Groups',\n",
              "       'Health,Safety,Sustainability,Security & Compliance',\n",
              "       'Amazon Marketplace Web Service (MWS)', 'Login With Amazon',\n",
              "       'Amazon Pay', 'Amazon Custom', 'US Announcements', 'Site Feedback',\n",
              "       'Financial Management', 'Product Sourcing', 'Human Resources',\n",
              "       'Amazon Specific', 'Flowster-specific', 'Software & Tools',\n",
              "       'Fulfillment', 'Traffic Sources', 'Management', 'Misc Topics',\n",
              "       'eCommerce Marketplaces', 'Store & Website Management'],\n",
              "      dtype=object)"
            ]
          },
          "metadata": {
            "tags": []
          },
          "execution_count": 15
        }
      ]
    },
    {
      "cell_type": "code",
      "metadata": {
        "id": "cuFHGBozw2Sp",
        "colab_type": "code",
        "colab": {
          "base_uri": "https://localhost:8080/",
          "height": 35
        },
        "outputId": "9ad58139-cf7c-450c-b3ea-017e7c5f86c3"
      },
      "source": [
        "len(result.labels.unique())"
      ],
      "execution_count": null,
      "outputs": [
        {
          "output_type": "execute_result",
          "data": {
            "text/plain": [
              "25"
            ]
          },
          "metadata": {
            "tags": []
          },
          "execution_count": 16
        }
      ]
    },
    {
      "cell_type": "code",
      "metadata": {
        "id": "zZ1M6eIQchn2",
        "colab_type": "code",
        "colab": {}
      },
      "source": [
        "categories = ['Fulfillment By Amazon', 'Amazon Sponsored Products',\n",
        "       'Account Health', 'Selling on Amazon', 'Global Selling', 'Groups',\n",
        "       'Amazon Marketplace Web Service (MWS)', 'Login With Amazon',\n",
        "       'Amazon Pay', 'Amazon Custom', 'US Announcements', 'Site Feedback',\n",
        "       'Health,Safety,Sustainability,Security & Compliance',\n",
        "       'Financial Management', 'Product Sourcing', 'Human Resources',\n",
        "       'Amazon Specific', 'Flowster-specific', 'Software & Tools',\n",
        "       'Fulfillment', 'Traffic Sources', 'Management', 'Misc Topics',\n",
        "       'eCommerce Marketplaces', 'Store & Website Management']"
      ],
      "execution_count": null,
      "outputs": []
    },
    {
      "cell_type": "code",
      "metadata": {
        "id": "_jngSB7Uw5WK",
        "colab_type": "code",
        "colab": {
          "base_uri": "https://localhost:8080/",
          "height": 35
        },
        "outputId": "095cffc3-c4ff-4bf5-ecd9-050671eb0061"
      },
      "source": [
        "len(categories)"
      ],
      "execution_count": null,
      "outputs": [
        {
          "output_type": "execute_result",
          "data": {
            "text/plain": [
              "25"
            ]
          },
          "metadata": {
            "tags": []
          },
          "execution_count": 18
        }
      ]
    },
    {
      "cell_type": "markdown",
      "metadata": {
        "id": "HsA81V0jyVtb",
        "colab_type": "text"
      },
      "source": [
        "# Train the model"
      ]
    },
    {
      "cell_type": "code",
      "metadata": {
        "id": "odaliWPUZ80G",
        "colab_type": "code",
        "colab": {}
      },
      "source": [
        "from sklearn.naive_bayes import MultinomialNB\n",
        "from sklearn.pipeline import Pipeline\n",
        "from sklearn.feature_extraction.text import TfidfTransformer\n",
        "from sklearn.linear_model import LogisticRegression\n",
        "from sklearn.metrics import classification_report\n",
        "import logging\n",
        "import pandas as pd\n",
        "import numpy as np\n",
        "from numpy import random\n",
        "import gensim\n",
        "import nltk\n",
        "from sklearn.model_selection import train_test_split\n",
        "from sklearn.feature_extraction.text import CountVectorizer, TfidfVectorizer\n",
        "from sklearn.metrics import accuracy_score, confusion_matrix\n",
        "import matplotlib.pyplot as plt\n",
        "from nltk.corpus import stopwords\n",
        "import re\n",
        "from bs4 import BeautifulSoup\n",
        "%matplotlib inline\n",
        "\n",
        "X = result.texts\n",
        "y = result.labels\n",
        "X_train, X_test, y_train, y_test = train_test_split(X, y, test_size=0.10, random_state = 42)"
      ],
      "execution_count": null,
      "outputs": []
    },
    {
      "cell_type": "code",
      "metadata": {
        "id": "TQnS6laL9lra",
        "colab_type": "code",
        "colab": {
          "base_uri": "https://localhost:8080/"
        },
        "outputId": "56bdd055-cba6-429e-b7eb-bae018f17395"
      },
      "source": [
        "logreg = Pipeline([('vect', TfidfVectorizer()),\n",
        "                   ('tfidf', TfidfTransformer()),\n",
        "                   ('clf', LogisticRegression(n_jobs=1, C=10.526405263157894, max_iter=200)),\n",
        "               ])\n",
        "logreg.fit(X_train, y_train)\n",
        "\n",
        "y_pred = logreg.predict(X_test)\n",
        "\n",
        "print('accuracy %s' % accuracy_score(y_pred, y_test))\n",
        "res31 = accuracy_score(y_pred, y_test)\n",
        "print(classification_report(y_test, y_pred))"
      ],
      "execution_count": null,
      "outputs": [
        {
          "output_type": "stream",
          "text": [
            "accuracy 0.6628959276018099\n",
            "                                                    precision    recall  f1-score   support\n",
            "\n",
            "                                    Account Health       0.83      0.84      0.83       165\n",
            "                                     Amazon Custom       0.93      0.41      0.57        32\n",
            "              Amazon Marketplace Web Service (MWS)       0.80      0.62      0.70        26\n",
            "                                        Amazon Pay       0.69      0.63      0.66        63\n",
            "                                   Amazon Specific       0.00      0.00      0.00         4\n",
            "                         Amazon Sponsored Products       0.84      0.70      0.76        30\n",
            "                                 Flowster-specific       1.00      0.58      0.74        12\n",
            "                                       Fulfillment       0.00      0.00      0.00         2\n",
            "                             Fulfillment By Amazon       0.64      0.77      0.70       137\n",
            "                                    Global Selling       0.55      0.56      0.56        62\n",
            "                                            Groups       0.82      0.57      0.67        49\n",
            "Health,Safety,Sustainability,Security & Compliance       1.00      0.25      0.40         8\n",
            "                                   Human Resources       1.00      0.67      0.80         3\n",
            "                                 Login With Amazon       0.67      0.45      0.54        22\n",
            "                                       Misc Topics       0.00      0.00      0.00         2\n",
            "                                  Product Sourcing       1.00      0.50      0.67         4\n",
            "                                 Selling on Amazon       0.52      0.67      0.58       213\n",
            "                                     Site Feedback       0.64      0.30      0.41        23\n",
            "                                  Software & Tools       0.00      0.00      0.00         1\n",
            "                                   Traffic Sources       0.00      0.00      0.00         3\n",
            "                                  US Announcements       0.77      0.74      0.76        23\n",
            "\n",
            "                                          accuracy                           0.66       884\n",
            "                                         macro avg       0.60      0.44      0.49       884\n",
            "                                      weighted avg       0.68      0.66      0.66       884\n",
            "\n"
          ],
          "name": "stdout"
        },
        {
          "output_type": "stream",
          "text": [
            "/usr/local/lib/python3.6/dist-packages/sklearn/linear_model/_logistic.py:940: ConvergenceWarning: lbfgs failed to converge (status=1):\n",
            "STOP: TOTAL NO. of ITERATIONS REACHED LIMIT.\n",
            "\n",
            "Increase the number of iterations (max_iter) or scale the data as shown in:\n",
            "    https://scikit-learn.org/stable/modules/preprocessing.html\n",
            "Please also refer to the documentation for alternative solver options:\n",
            "    https://scikit-learn.org/stable/modules/linear_model.html#logistic-regression\n",
            "  extra_warning_msg=_LOGISTIC_SOLVER_CONVERGENCE_MSG)\n",
            "/usr/local/lib/python3.6/dist-packages/sklearn/metrics/_classification.py:1272: UndefinedMetricWarning: Precision and F-score are ill-defined and being set to 0.0 in labels with no predicted samples. Use `zero_division` parameter to control this behavior.\n",
            "  _warn_prf(average, modifier, msg_start, len(result))\n"
          ],
          "name": "stderr"
        }
      ]
    },
    {
      "cell_type": "markdown",
      "metadata": {
        "id": "2if-Id6-ygHb",
        "colab_type": "text"
      },
      "source": [
        "# Run and test the recommender model"
      ]
    },
    {
      "cell_type": "code",
      "metadata": {
        "id": "JDlGryo8xXA6",
        "colab_type": "code",
        "colab": {
          "base_uri": "https://localhost:8080/",
          "height": 52
        },
        "outputId": "1fa15f3f-2b22-45ae-9cda-d4273cf4be54"
      },
      "source": [
        "# to generate the count matrix\n",
        "count = TfidfVectorizer()\n",
        "count_matrix = count.fit_transform(result['texts'])\n",
        "count_matrix"
      ],
      "execution_count": null,
      "outputs": [
        {
          "output_type": "execute_result",
          "data": {
            "text/plain": [
              "<8840x24836 sparse matrix of type '<class 'numpy.float64'>'\n",
              "\twith 676684 stored elements in Compressed Sparse Row format>"
            ]
          },
          "metadata": {
            "tags": []
          },
          "execution_count": 21
        }
      ]
    },
    {
      "cell_type": "code",
      "metadata": {
        "id": "0ihb_bfoxKZb",
        "colab_type": "code",
        "colab": {
          "base_uri": "https://localhost:8080/",
          "height": 138
        },
        "outputId": "6cceaacf-d3ec-4df7-ae82-cf86792b4e10"
      },
      "source": [
        "# to generate the cosine similarity matrix (size 250 x 250)\n",
        "# rows represent all movies; columns represent all movies\n",
        "# cosine similarity: similarity = cos(angle) = range from 0 (different) to 1 (similar)\n",
        "# all the numbers on the diagonal are 1 because every movie is identical to itself (cosine value is 1 means exactly identical)\n",
        "# matrix is also symmetrical because the similarity between A and B is the same as the similarity between B and A.\n",
        "# for other values eg 0.1578947, movie x and movie y has similarity value of 0.1578947\n",
        "from sklearn.metrics.pairwise import cosine_similarity\n",
        "\n",
        "cosine_sim = cosine_similarity(count_matrix, count_matrix)\n",
        "print(cosine_sim)"
      ],
      "execution_count": null,
      "outputs": [
        {
          "output_type": "stream",
          "text": [
            "[[1.         0.04581401 0.06240643 ... 0.03376081 0.10718756 0.02796889]\n",
            " [0.04581401 1.         0.12163251 ... 0.04539971 0.06808399 0.03836429]\n",
            " [0.06240643 0.12163251 1.         ... 0.03232047 0.04969761 0.02816648]\n",
            " ...\n",
            " [0.03376081 0.04539971 0.03232047 ... 1.         0.08591856 0.76951469]\n",
            " [0.10718756 0.06808399 0.04969761 ... 0.08591856 1.         0.07868944]\n",
            " [0.02796889 0.03836429 0.02816648 ... 0.76951469 0.07868944 1.        ]]\n"
          ],
          "name": "stdout"
        }
      ]
    },
    {
      "cell_type": "code",
      "metadata": {
        "id": "hAy90Mhbx0Oe",
        "colab_type": "code",
        "colab": {
          "base_uri": "https://localhost:8080/",
          "height": 121
        },
        "outputId": "5e8a5082-13ad-44ad-8245-26e824262e42"
      },
      "source": [
        "# to create a Series for movie titles which can be used as indices (each index is mapped to a movie title)\n",
        "indices = pd.Series(result['Title'])\n",
        "indices[:5]"
      ],
      "execution_count": null,
      "outputs": [
        {
          "output_type": "execute_result",
          "data": {
            "text/plain": [
              "0                             One item multiple buyers\n",
              "1                                  Unavailable payment\n",
              "2                 Some FBA items Not Showing Inventory\n",
              "3                                       Stock products\n",
              "4    Frustrating Seller Support for faulty LTSF cat...\n",
              "Name: Title, dtype: object"
            ]
          },
          "metadata": {
            "tags": []
          },
          "execution_count": 23
        }
      ]
    },
    {
      "cell_type": "code",
      "metadata": {
        "id": "QSH36Tc9yI7r",
        "colab_type": "code",
        "colab": {
          "base_uri": "https://localhost:8080/",
          "height": 52
        },
        "outputId": "577eb84b-062a-45ea-d153-786a84a99de5"
      },
      "source": [
        "indices[indices=='One item multiple buyers']"
      ],
      "execution_count": null,
      "outputs": [
        {
          "output_type": "execute_result",
          "data": {
            "text/plain": [
              "0    One item multiple buyers\n",
              "Name: Title, dtype: object"
            ]
          },
          "metadata": {
            "tags": []
          },
          "execution_count": 24
        }
      ]
    },
    {
      "cell_type": "code",
      "metadata": {
        "id": "_Hf3UMt2yODx",
        "colab_type": "code",
        "colab": {
          "base_uri": "https://localhost:8080/",
          "height": 190
        },
        "outputId": "55705be9-d4d2-4c6f-aaff-701bc79e8efa"
      },
      "source": [
        "# this function takes in a movie title as input and returns the top 10 recommended (similar) movies\n",
        "\n",
        "def recommend(title, cosine_sim = cosine_sim):\n",
        "    recommended_movies = []\n",
        "    idx = indices[indices == title].index[0]   # to get the index of the movie title matching the input movie\n",
        "    score_series = pd.Series(cosine_sim[idx]).sort_values(ascending = False)   # similarity scores in descending order\n",
        "    top_10_indices = list(score_series.iloc[1:11].index)   # to get the indices of top 10 most similar movies\n",
        "    # [1:11] to exclude 0 (index 0 is the input movie itself)\n",
        "    \n",
        "    for i in top_10_indices:   # to append the titles of top 10 similar movies to the recommended_movies list\n",
        "        recommended_movies.append(list(result['Title'])[i])\n",
        "        \n",
        "    return recommended_movies\n",
        "\n",
        "recommend('Stock products')"
      ],
      "execution_count": null,
      "outputs": [
        {
          "output_type": "execute_result",
          "data": {
            "text/plain": [
              "['Buybox Seller Information',\n",
              " 'Add product to my Listing through an ASIN using API',\n",
              " 'In MWS, can you see if a product / offer is eligible for Prime shipping?',\n",
              " 'Be in stock date',\n",
              " 'Currently Unavailable',\n",
              " 'Api for downloading product listing information and updating title and descriptions',\n",
              " 'Shipping my inventory to FBA for the first time',\n",
              " 'Stranded Inventory - Inactive (Out of Stock) for 3 weeks - Seller Support have been no help',\n",
              " 'Shipping to closest distribution center',\n",
              " 'API not passing through customer information']"
            ]
          },
          "metadata": {
            "tags": []
          },
          "execution_count": 25
        }
      ]
    },
    {
      "cell_type": "code",
      "metadata": {
        "id": "A6vVzHsny7r3",
        "colab_type": "code",
        "colab": {
          "base_uri": "https://localhost:8080/",
          "height": 78
        },
        "outputId": "5328992d-f62f-41ca-a7f0-b141ab11c510"
      },
      "source": [
        "result[result['Title'] == 'About the Product Sourcing Category1']"
      ],
      "execution_count": null,
      "outputs": [
        {
          "output_type": "execute_result",
          "data": {
            "text/html": [
              "<div>\n",
              "<style scoped>\n",
              "    .dataframe tbody tr th:only-of-type {\n",
              "        vertical-align: middle;\n",
              "    }\n",
              "\n",
              "    .dataframe tbody tr th {\n",
              "        vertical-align: top;\n",
              "    }\n",
              "\n",
              "    .dataframe thead th {\n",
              "        text-align: right;\n",
              "    }\n",
              "</style>\n",
              "<table border=\"1\" class=\"dataframe\">\n",
              "  <thead>\n",
              "    <tr style=\"text-align: right;\">\n",
              "      <th></th>\n",
              "      <th>Title</th>\n",
              "      <th>texts</th>\n",
              "      <th>labels</th>\n",
              "    </tr>\n",
              "  </thead>\n",
              "  <tbody>\n",
              "    <tr>\n",
              "      <th>8587</th>\n",
              "      <td>About the Product Sourcing Category1</td>\n",
              "      <td>Have questions about sourcing products? This i...</td>\n",
              "      <td>Product Sourcing</td>\n",
              "    </tr>\n",
              "  </tbody>\n",
              "</table>\n",
              "</div>"
            ],
            "text/plain": [
              "                                     Title  ...            labels\n",
              "8587  About the Product Sourcing Category1  ...  Product Sourcing\n",
              "\n",
              "[1 rows x 3 columns]"
            ]
          },
          "metadata": {
            "tags": []
          },
          "execution_count": 26
        }
      ]
    },
    {
      "cell_type": "code",
      "metadata": {
        "id": "-J4wn-i2zNSL",
        "colab_type": "code",
        "colab": {
          "base_uri": "https://localhost:8080/",
          "height": 190
        },
        "outputId": "4444fbec-01c5-4006-c8b2-c8ff478f60d5"
      },
      "source": [
        "recommend('About the Product Sourcing Category1')"
      ],
      "execution_count": null,
      "outputs": [
        {
          "output_type": "execute_result",
          "data": {
            "text/plain": [
              "['About the Fulfillment category1',\n",
              " 'About the Management category1',\n",
              " 'About the Amazon Specific Category1',\n",
              " 'About the Software & Tools category1',\n",
              " 'About the Store & Website Management category1',\n",
              " 'About the Sales Channels & Marketplaces Category1',\n",
              " 'About the Financial Management category1',\n",
              " 'About the Human Resources category1',\n",
              " 'About the Misc Topics category1',\n",
              " 'About the Traffic Sources category1']"
            ]
          },
          "metadata": {
            "tags": []
          },
          "execution_count": 37
        }
      ]
    },
    {
      "cell_type": "code",
      "metadata": {
        "id": "e4j5RItAz1BK",
        "colab_type": "code",
        "colab": {
          "base_uri": "https://localhost:8080/",
          "height": 52
        },
        "outputId": "77931b44-52a4-47a5-c65a-99f60a9da293"
      },
      "source": [
        "print(result['texts'][result['Title'] == 'About the Product Sourcing Category1'])"
      ],
      "execution_count": null,
      "outputs": [
        {
          "output_type": "stream",
          "text": [
            "8587    Have questions about sourcing products? This i...\n",
            "Name: texts, dtype: object\n"
          ],
          "name": "stdout"
        }
      ]
    },
    {
      "cell_type": "code",
      "metadata": {
        "id": "MGTjsEisQ3l0",
        "colab_type": "code",
        "colab": {
          "base_uri": "https://localhost:8080/",
          "height": 53
        },
        "outputId": "9d4b0e98-1779-4cb9-d279-103b076d3878"
      },
      "source": [
        "result['texts'][8587]"
      ],
      "execution_count": null,
      "outputs": [
        {
          "output_type": "execute_result",
          "data": {
            "application/vnd.google.colaboratory.intrinsic+json": {
              "type": "string"
            },
            "text/plain": [
              "'Have questions about sourcing products? This is the category to use. Please be sure to select the most appropriate sub-category for your questions.'"
            ]
          },
          "metadata": {
            "tags": []
          },
          "execution_count": 34
        }
      ]
    },
    {
      "cell_type": "code",
      "metadata": {
        "id": "5bxXVjB5T5xa",
        "colab_type": "code",
        "colab": {
          "base_uri": "https://localhost:8080/",
          "height": 52
        },
        "outputId": "480d0c56-56c4-4bc4-ecf9-3b95af355c83"
      },
      "source": [
        "print(result['texts'][result['Title'] == 'About the Financial Management category1'])"
      ],
      "execution_count": null,
      "outputs": [
        {
          "output_type": "stream",
          "text": [
            "8579    Have questions about Financial Management? Thi...\n",
            "Name: texts, dtype: object\n"
          ],
          "name": "stdout"
        }
      ]
    },
    {
      "cell_type": "code",
      "metadata": {
        "id": "GLVboUYsUXj0",
        "colab_type": "code",
        "colab": {
          "base_uri": "https://localhost:8080/",
          "height": 53
        },
        "outputId": "fd5dc984-cbbf-4ab4-ab21-d72c32cf2122"
      },
      "source": [
        "result['texts'][8579]"
      ],
      "execution_count": null,
      "outputs": [
        {
          "output_type": "execute_result",
          "data": {
            "application/vnd.google.colaboratory.intrinsic+json": {
              "type": "string"
            },
            "text/plain": [
              "'Have questions about Financial Management? This is the category to use. Please be sure to select the most appropriate sub-category for your questions.'"
            ]
          },
          "metadata": {
            "tags": []
          },
          "execution_count": 36
        }
      ]
    },
    {
      "cell_type": "code",
      "metadata": {
        "id": "LPrh_XVTUa0T",
        "colab_type": "code",
        "colab": {
          "base_uri": "https://localhost:8080/",
          "height": 52
        },
        "outputId": "33f6441e-efa0-4266-e532-10d404557639"
      },
      "source": [
        "print(result['texts'][result['Title'] == 'Shipment fulfillment'])"
      ],
      "execution_count": null,
      "outputs": [
        {
          "output_type": "stream",
          "text": [
            "2266    Hello, Thank you for the answers and inputs in...\n",
            "Name: texts, dtype: object\n"
          ],
          "name": "stdout"
        }
      ]
    },
    {
      "cell_type": "code",
      "metadata": {
        "id": "IV9_LhO2XBbS",
        "colab_type": "code",
        "colab": {
          "base_uri": "https://localhost:8080/",
          "height": 53
        },
        "outputId": "895d1055-cbcd-4265-d3c9-79234e003f8c"
      },
      "source": [
        "result['texts'][2266]"
      ],
      "execution_count": null,
      "outputs": [
        {
          "output_type": "execute_result",
          "data": {
            "application/vnd.google.colaboratory.intrinsic+json": {
              "type": "string"
            },
            "text/plain": [
              "'Hello, Thank you for the answers and inputs in advance. I have a question about fulfilling orders yourself.is there a cheap way other than going to the usps website. if you have experience in this please help out? thank you,'"
            ]
          },
          "metadata": {
            "tags": []
          },
          "execution_count": 42
        }
      ]
    },
    {
      "cell_type": "code",
      "metadata": {
        "id": "RNzccfqKXSNP",
        "colab_type": "code",
        "colab": {
          "base_uri": "https://localhost:8080/",
          "height": 52
        },
        "outputId": "03c680ca-2cab-4490-d36b-9e38aea13e7b"
      },
      "source": [
        "print(result['texts'][result['Title'] == 'About the Store & Website Management category1'])"
      ],
      "execution_count": null,
      "outputs": [
        {
          "output_type": "stream",
          "text": [
            "8840    Have questions about Store & Website Managemen...\n",
            "Name: texts, dtype: object\n"
          ],
          "name": "stdout"
        }
      ]
    },
    {
      "cell_type": "code",
      "metadata": {
        "id": "rQHsFIwGXuoa",
        "colab_type": "code",
        "colab": {
          "base_uri": "https://localhost:8080/",
          "height": 53
        },
        "outputId": "e51939eb-57a0-4f9d-cfad-c5f0aaa15453"
      },
      "source": [
        "result['texts'][8840]"
      ],
      "execution_count": null,
      "outputs": [
        {
          "output_type": "execute_result",
          "data": {
            "application/vnd.google.colaboratory.intrinsic+json": {
              "type": "string"
            },
            "text/plain": [
              "'Have questions about Store & Website Management? This is the category to use. Please be sure to select the most appropriate sub-category for your questions.'"
            ]
          },
          "metadata": {
            "tags": []
          },
          "execution_count": 44
        }
      ]
    },
    {
      "cell_type": "code",
      "metadata": {
        "id": "TBBjmMUYXx6d",
        "colab_type": "code",
        "colab": {}
      },
      "source": [
        ""
      ],
      "execution_count": null,
      "outputs": []
    }
  ]
}